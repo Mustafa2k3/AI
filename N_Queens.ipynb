{
  "nbformat": 4,
  "nbformat_minor": 0,
  "metadata": {
    "colab": {
      "provenance": [],
      "authorship_tag": "ABX9TyOaB9jGwkID7pn+T2jz0hZw",
      "include_colab_link": true
    },
    "kernelspec": {
      "name": "python3",
      "display_name": "Python 3"
    },
    "language_info": {
      "name": "python"
    }
  },
  "cells": [
    {
      "cell_type": "markdown",
      "metadata": {
        "id": "view-in-github",
        "colab_type": "text"
      },
      "source": [
        "<a href=\"https://colab.research.google.com/github/Faligithub/AI/blob/main/N_Queens.ipynb\" target=\"_parent\"><img src=\"https://colab.research.google.com/assets/colab-badge.svg\" alt=\"Open In Colab\"/></a>"
      ]
    },
    {
      "cell_type": "code",
      "source": [
        "class solution:\n",
        "\n",
        "\n",
        "  def __init__(self):\n",
        "    self.MAX=20\n",
        "    self.A=[0]*self.MAX\n",
        "\n",
        "  def placement(self,i,j):\n",
        "    for k in range(1,i):\n",
        "      if(self.A[k]==j) or abs(self.A[k]-j)==abs(k-i):\n",
        "        return False\n",
        "    print(self.A)\n",
        "    return True\n",
        "\n",
        "  def printplacedqueen(self,N):\n",
        "    print('Arrangement-->')\n",
        "    print()\n",
        "\n",
        "    for i in range(1,N+1):\n",
        "      for j in range(1,N+1):\n",
        "        if self.A[i]!=j:\n",
        "          print('\\t_',end = '')\n",
        "        else:\n",
        "          print('\\tQ',end = '')\n",
        "      print()\n",
        "      print()\n",
        "\n",
        "  def N_Queens(self,i,N):\n",
        "    for k in range(1,N+1):\n",
        "      if self.placement(i,k):\n",
        "        self.A[i]=k\n",
        "        if i==N:\n",
        "          self.printplacedqueen(N)\n",
        "        else:\n",
        "          self.N_Queens(i+1,N)\n",
        "\n",
        "N=int(input(\"Enter The Queens Value: \"))\n",
        "if N==2 or N==3:\n",
        "  print(\"No solution\")\n",
        "else:\n",
        "  obj=solution()\n",
        "  obj.N_Queens(1,N)\n",
        "\n"
      ],
      "metadata": {
        "colab": {
          "base_uri": "https://localhost:8080/"
        },
        "id": "rDT2hhRa0AA5",
        "outputId": "dff9ebce-2b35-4fac-cde7-31702072fe49"
      },
      "execution_count": null,
      "outputs": [
        {
          "output_type": "stream",
          "name": "stdout",
          "text": [
            "Enter The Queens Value: 2\n",
            "No solution\n"
          ]
        }
      ]
    },
    {
      "cell_type": "code",
      "source": [],
      "metadata": {
        "id": "dmtQ4ZGM2iEy"
      },
      "execution_count": null,
      "outputs": []
    }
  ]
}