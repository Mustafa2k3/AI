{
  "nbformat": 4,
  "nbformat_minor": 0,
  "metadata": {
    "colab": {
      "provenance": [],
      "authorship_tag": "ABX9TyOhtR4B/FmENb38mARsnDQI",
      "include_colab_link": true
    },
    "kernelspec": {
      "name": "python3",
      "display_name": "Python 3"
    },
    "language_info": {
      "name": "python"
    }
  },
  "cells": [
    {
      "cell_type": "markdown",
      "metadata": {
        "id": "view-in-github",
        "colab_type": "text"
      },
      "source": [
        "<a href=\"https://colab.research.google.com/github/Faligithub/AI/blob/main/HangmanMain.ipynb\" target=\"_parent\"><img src=\"https://colab.research.google.com/assets/colab-badge.svg\" alt=\"Open In Colab\"/></a>"
      ]
    },
    {
      "cell_type": "code",
      "execution_count": null,
      "metadata": {
        "id": "yAylbVmX9hAe"
      },
      "outputs": [],
      "source": [
        "import random\n",
        "\n",
        "from hangman_words import word_list\n",
        "from hangman_art import stages,logo\n",
        "chosen_word=random.choice(word_list)\n",
        "lives=len(chosen_word)\n",
        "print(lives)\n",
        "\n",
        "#testing code\n",
        "print(f'Pssst, the solution is {chosen_word}.')\n",
        "print(logo)\n",
        "display=[]\n",
        "\n",
        "for i in range(len(chosen_word)):\n",
        "\n",
        "\tdisplay.append(\"_\")\n",
        "while \"_\" in display:\n",
        "\tguess=input(\"Guess a letter:\").lower()\n",
        "\tfor i in range(len(chosen_word)):\n",
        "\n",
        "\t\tletter=chosen_word[i]\n",
        "\n",
        "\t\tif letter==guess:\n",
        "\n",
        "\n",
        "\t\t\tdisplay[i]=letter\n",
        "\n",
        "\tif guess not in chosen_word:\n",
        "\n",
        "\t\tlives=lives-1\n",
        "\n",
        "\n",
        "\t\tif lives==0:\n",
        "\n",
        "\t\t\tprint(\"You loose\")\n",
        "\n",
        "\t\t\texit(1)\n",
        "\tprint(f\"{' '.join(display)}\")\n",
        "\tprint(stages[lives])\n",
        "\n",
        "else:\n",
        "\tprint(\"You have won\")"
      ]
    }
  ]
}