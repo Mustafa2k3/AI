{
  "nbformat": 4,
  "nbformat_minor": 0,
  "metadata": {
    "colab": {
      "provenance": [],
      "authorship_tag": "ABX9TyN8ai7wTURyos9/wXbwnn+5",
      "include_colab_link": true
    },
    "kernelspec": {
      "name": "python3",
      "display_name": "Python 3"
    },
    "language_info": {
      "name": "python"
    }
  },
  "cells": [
    {
      "cell_type": "markdown",
      "metadata": {
        "id": "view-in-github",
        "colab_type": "text"
      },
      "source": [
        "<a href=\"https://colab.research.google.com/github/Faligithub/AI/blob/main/waterjug.ipynb\" target=\"_parent\"><img src=\"https://colab.research.google.com/assets/colab-badge.svg\" alt=\"Open In Colab\"/></a>"
      ]
    },
    {
      "cell_type": "code",
      "execution_count": null,
      "metadata": {
        "colab": {
          "base_uri": "https://localhost:8080/"
        },
        "id": "dq4epdrX20b3",
        "outputId": "c6ef3b54-7987-48bb-ad76-7422dde3371c"
      },
      "outputs": [
        {
          "output_type": "stream",
          "name": "stdout",
          "text": [
            "Enter Jug A Capacity: 4\n",
            "Enter Jug B Capacity: 3\n",
            "Initial water in jug A: 0\n",
            "Initial water in jug B: 0\n",
            "Final State of jug A: 0\n",
            "Final State of jug B: 2\n",
            "List of operations you can do:\n",
            "\n",
            "1.Fill Jug A completely\n",
            "\n",
            "2.Fill Jug B completely\n",
            "\n",
            "3.Empty Jug A completely\n",
            "\n",
            "4.Empty Jug B completely\n",
            "\n",
            "5.Pour from jug A till Jug B is filled completely or A becomes empty\n",
            "\n",
            "6.Pour from jug B till Jug A is filled completely or B becomes empty\n",
            "\n",
            "7.Pour all from Jug B to Jug A\n",
            "\n",
            "8.Pour all from Jug A to Jug B\n",
            "\n",
            "Enter The operation: 2\n",
            "0 3\n",
            "Enter The operation: 7\n",
            "3 0\n",
            "Enter The operation: 2\n",
            "3 3\n",
            "Enter The operation: 6\n",
            "*** 3\n",
            "4 2\n",
            "Enter The operation: 3\n",
            "0 2\n"
          ]
        }
      ],
      "source": [
        "a=int(input(\"Enter Jug A Capacity: \"))\n",
        "b=int(input(\"Enter Jug B Capacity: \"))\n",
        "ai=int(input(\"Initial water in jug A: \"))\n",
        "bi=int(input(\"Initial water in jug B: \"))\n",
        "af=int(input(\"Final State of jug A: \"))\n",
        "bf=int(input(\"Final State of jug B: \"))\n",
        "print(\"List of operations you can do:\\n\")\n",
        "print(\"1.Fill Jug A completely\\n\")\n",
        "print(\"2.Fill Jug B completely\\n\")\n",
        "print(\"3.Empty Jug A completely\\n\")\n",
        "print(\"4.Empty Jug B completely\\n\")\n",
        "print(\"5.Pour from jug A till Jug B is filled completely or A becomes empty\\n\")\n",
        "print(\"6.Pour from jug B till Jug A is filled completely or B becomes empty\\n\")\n",
        "print(\"7.Pour all from Jug B to Jug A\\n\")\n",
        "print(\"8.Pour all from Jug A to Jug B\\n\")\n",
        "while((ai!=af) or (bi!=bf)):\n",
        "\top=int(input(\"Enter The operation: \"))\n",
        "\tif(op==1):\n",
        "   \t\tai=a\n",
        "\telif(op==2):\n",
        "   \t\tbi=b\n",
        "\telif(op==3):\n",
        "   \t\tai=0\n",
        "\telif(op==4):\n",
        "   \t\tbi=0\n",
        "\telif(op==5):\n",
        "\t\tif(b-bi>ai):\n",
        "\t\t\tbi=ai+bi\n",
        "\t\t\tai=0\n",
        "\t\telse:\n",
        "\t\t\tai=ai-(b-bi)\n",
        "\t\t\tbi=b\n",
        "\telif(op==6):\n",
        "\t\tif(a-ai>bi):\n",
        "\t\t\ta=ai+bi\n",
        "\t\t\tbi=0\n",
        "\t\telse:\n",
        "\t\t\tbi=bi-(a-ai)\n",
        "\t\t\tprint(\"***\",ai)\n",
        "\t\t\tai=a\n",
        "\telif(op==7):\n",
        "\t\tif ai<a:\n",
        "\t\t\tai=ai+bi\n",
        "\t\t\tbi=0\n",
        "\t\telse:\n",
        "\t\t\tprint(\"Overflow\") #Overflow condition when pouring water in jug containing water already\n",
        "\t\t\tpass\n",
        "\telif(op==8):\n",
        "   \t\tbi=bi+ai\n",
        "   \t\tai=0\n",
        "\tprint(ai,bi)"
      ]
    }
  ]
}