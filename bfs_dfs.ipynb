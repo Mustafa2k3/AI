{
  "nbformat": 4,
  "nbformat_minor": 0,
  "metadata": {
    "colab": {
      "provenance": [],
      "authorship_tag": "ABX9TyOp5xSSD7OmIjWouzpA6C9E",
      "include_colab_link": true
    },
    "kernelspec": {
      "name": "python3",
      "display_name": "Python 3"
    },
    "language_info": {
      "name": "python"
    }
  },
  "cells": [
    {
      "cell_type": "markdown",
      "metadata": {
        "id": "view-in-github",
        "colab_type": "text"
      },
      "source": [
        "<a href=\"https://colab.research.google.com/github/Faligithub/AI/blob/main/bfs_dfs.ipynb\" target=\"_parent\"><img src=\"https://colab.research.google.com/assets/colab-badge.svg\" alt=\"Open In Colab\"/></a>"
      ]
    },
    {
      "cell_type": "code",
      "execution_count": 1,
      "metadata": {
        "colab": {
          "base_uri": "https://localhost:8080/"
        },
        "id": "Lrj3N9atwC88",
        "outputId": "33fb1152-dad0-4f6d-df99-bdd6562193d4"
      },
      "outputs": [
        {
          "output_type": "stream",
          "name": "stdout",
          "text": [
            "Following is the breadth 1st search\n",
            "P Q R S T "
          ]
        }
      ],
      "source": [
        "#Adjacency Dictionary\n",
        "\n",
        "graph={'P':['Q','R','S'],'Q':['P','R'],'R':['P','Q','T'],'T':['R'],'S':['P']}\n",
        "visited=[]\n",
        "queue=[]\n",
        "\n",
        "def bfs(visited,graph,node):\n",
        "  visited.append(node)\n",
        "  queue.append(node)\n",
        "  while queue:\n",
        "    m=queue.pop(0)\n",
        "    print(m,end=\" \")\n",
        "    for neighbour in graph[m]:\n",
        "      if neighbour not in visited:\n",
        "        visited.append(neighbour)\n",
        "        queue.append(neighbour)\n",
        "print(\"Following is the breadth 1st search\")\n",
        "bfs(visited,graph,'P')"
      ]
    },
    {
      "cell_type": "code",
      "source": [
        "graph={'A':['B','C'],'B':['D','E'],'C':['F'],'D':[],'E':['F'],'F':[]}\n",
        "visited=set()\n",
        "\n",
        "def dfs(visited,graph,node):\n",
        "  if node not in visited:\n",
        "    print(node,end=\" \")\n",
        "    visited.add(node)\n",
        "    for neighbour in graph[node]:\n",
        "     dfs(visited,graph,neighbour)\n",
        "print(\"Following is the depth 1st search\")\n",
        "dfs(visited,graph,'A')"
      ],
      "metadata": {
        "colab": {
          "base_uri": "https://localhost:8080/"
        },
        "id": "JSdy6zYHxy0Y",
        "outputId": "bc23bce8-eea0-4047-9cca-a1dfa2e6508a"
      },
      "execution_count": 4,
      "outputs": [
        {
          "output_type": "stream",
          "name": "stdout",
          "text": [
            "Following is the depth 1st search\n",
            "A B D E F C "
          ]
        }
      ]
    }
  ]
}